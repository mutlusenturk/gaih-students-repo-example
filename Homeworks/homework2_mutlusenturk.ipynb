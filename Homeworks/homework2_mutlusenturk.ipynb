{
  "nbformat": 4,
  "nbformat_minor": 0,
  "metadata": {
    "colab": {
      "name": "Untitled1.ipynb",
      "provenance": []
    },
    "kernelspec": {
      "name": "python3",
      "display_name": "Python 3"
    }
  },
  "cells": [
    {
      "cell_type": "code",
      "metadata": {
        "id": "cCcPVnYyikea"
      },
      "source": [
        "#Intorduction to Pyhon Homework2 - CV dictionaries\r\n",
        "#Created by Mutlu Senturk\r\n",
        "\r\n",
        "CV_mutlusenturk={'name':'Mutlu','surname':'Senturk','email':'senturkmutlu@gmail.com',\r\n",
        "          'university':'Istanbul Technical University','occupation':'Mechatronic Engineer',\r\n",
        "          'languages':['Turkish, English'],'technical_skills':['MATLAB','Python','AutoDesk Fusion360']}\r\n",
        "\r\n",
        "CV_denizsenturk={'name':'Deniz','surname':'Senturk','email':'denizsenturk@gmail.com',\r\n",
        "          'university':'Mimar Sinan Fine Arts University','occupation':'Turkish Literature',\r\n",
        "          'languages':['Turkish, English','Bulgarian'],'technical_skills':['MS Office Tools']}\r\n",
        "\r\n",
        "CV_canerguven={'name':'Caner','surname':'Guven','email':'canerguven@gmail.com',\r\n",
        "          'university':'Middle East Technical University','occupation':'Automotive Engineer',\r\n",
        "          'languages':['Turkish, English','German'],'technical_skills':['MATLAB','Solidworks']}\r\n",
        "\r\n",
        "CV_altanozgur={'name':'Altan','surname':'Ozgur','email':'altanozgur@gmail.com',\r\n",
        "          'university':'Yildiz Technical University','occupation':'Desing Engineer',\r\n",
        "          'languages':['Turkish, English','Bulgarian'],'technical_skills':['Catia','3DSMax']}\r\n",
        "\r\n",
        "CV_cansungur={'name':'Can','surname':'Sungur','email':'cansungur@gmail.com',\r\n",
        "          'university':'Istanbul Technical University','occupation':'NVH Engineer',\r\n",
        "          'languages':['Turkish, English','German'],'technical_skills':['AVL Acoustics']}\r\n",
        "\r\n",
        "All_CV=[CV_mutlusenturk,CV_denizsenturk,CV_canerguven,CV_altanozgur,CV_cansungur]\r\n",
        "\r\n",
        "for CV in All_CV:\r\n",
        "\r\n",
        "    for value,key in CV.items():\r\n",
        "        print(value +': ',key)\r\n",
        "    "
      ],
      "execution_count": null,
      "outputs": []
    }
  ]
}