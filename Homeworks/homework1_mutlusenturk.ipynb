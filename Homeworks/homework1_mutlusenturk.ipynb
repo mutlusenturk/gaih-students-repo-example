{
  "nbformat": 4,
  "nbformat_minor": 0,
  "metadata": {
    "colab": {
      "name": "Copy of Copy of Untitled0.ipynb",
      "provenance": [],
      "collapsed_sections": []
    },
    "kernelspec": {
      "name": "python3",
      "display_name": "Python 3"
    }
  },
  "cells": [
    {
      "cell_type": "code",
      "metadata": {
        "id": "pkI8Dph2AAIj"
      },
      "source": [
        "#Introduction to Pyhton Homework1 by Mutlu Senturk\r\n",
        "\r\n",
        "#list of odd numbers between 1 and 20 \r\n",
        "list1=list(range(1,20,2))\r\n",
        "#list of even numbers between 1 and 20\r\n",
        "list2=list(range(2,21,2))\r\n",
        "#merge list\r\n",
        "list3=list1+list2\r\n",
        "#multiply by 2\r\n",
        "list4=[num*2 for num in list3] \r\n",
        "\r\n",
        "#print the data type\r\n",
        "for num in list4:\r\n",
        "    print(type(num))"
      ],
      "execution_count": null,
      "outputs": []
    },
    {
      "cell_type": "code",
      "metadata": {
        "id": "WKUIo2LWAIxW"
      },
      "source": [
        ""
      ],
      "execution_count": null,
      "outputs": []
    }
  ]
}